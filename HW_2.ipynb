{
 "cells": [
  {
   "cell_type": "markdown",
   "metadata": {},
   "source": [
    "# Домашнее задание 2 по теме: \"Извлечение коллокаций + NER\""
   ]
  },
  {
   "cell_type": "markdown",
   "metadata": {},
   "source": [
    "Я использовал данные из категории **\"Cell Phones & Accessories\"** из предложенного датасета при подготовке домашнего задания.  \n",
    "\n",
    "Как можно найти упоминания товаров в отзывах (без использования обучающего набора):\n",
    "1. rule-based системы, которые помогут найти сущности по шаблону (для английского языка см., например, [spaCy](https://spacy.io/usage/rule-based-matching)); этот подход требует подготовки некоторого небольшого словаря типов товаров (например, *телефон*, *смартфон*, *сотовый* и др.), данные можно взять из Metadata; основным его минусом является ограниченность его применения (например, мы не можем за два шага расширить домен), также такой метод плох для сложных случаев, о которых не догадывался создатель; плюсом же является то, что точность (precision) такого решения будет очень высокой, ибо всё, что задумывал автор такой системы будет обрабатываться почти идеально;\n",
    "2. чуть больше расширить и частично автоматизировать описанный выше подход можно с помощью сгенерированного словаря на основе эмбеддингов синонимов (`most_similar`); особого успеха система может добиться, если в ней будет использоваться модель дистрибутивной семантики, способная работать с подсловами (это может помочь решить проблему с неизвестными словами); проблемой такой системы будут False Positives, которые понизят точность; достоинство системы заключается в уменьшении ручной работы и большем *обобщении*, если можно так сказать;\n",
    "3. ещё одна система может быть построена на основе морфосинтаксических шаблонов, которые позволяют избежать некоторого мусора (*но могут и добавить*), так как ожидается, что сущности схожи по форме и синтаксической роли, однако так же, как и первая модель, могут плохо сработать в сложных случаях. \n",
    "\n",
    "Я при выполнении домашнего задания воспользовался всем по чуть-чуть: 1) составил словарь типов товаров на основе категорий релевантных товаров из метаданных; 2) раширил этот словарь посредством модели дистрибутивной семантики; 3) для определения сущностей учитывал синтаксический шаблон NP. NB! Хочу сразу заметить, что моя система неидеальна, однако она может быть применима ко всей категории, а не к какому-то отдельному типу товара, и почти не требует ручного вмешательства."
   ]
  },
  {
   "cell_type": "code",
   "execution_count": 278,
   "metadata": {},
   "outputs": [],
   "source": [
    "import pandas as pd\n",
    "import json\n",
    "from tqdm import tqdm\n",
    "import spacy\n",
    "from string import punctuation\n",
    "import re\n",
    "from collections import Counter\n",
    "import numpy as np\n",
    "from gensim.models import KeyedVectors\n",
    "from nltk import word_tokenize\n",
    "from nltk.collocations import *\n",
    "import nltk\n",
    "from nltk.tokenize import RegexpTokenizer\n",
    "from nltk.corpus import stopwords"
   ]
  },
  {
   "cell_type": "markdown",
   "metadata": {},
   "source": [
    "Некоторые предварительные процессы (инициализация моделей, подготовка `tqdm`)."
   ]
  },
  {
   "cell_type": "code",
   "execution_count": 10,
   "metadata": {},
   "outputs": [],
   "source": [
    "tqdm.pandas()\n",
    "nlp = spacy.load(\"en_core_web_sm\")\n",
    "wv = KeyedVectors.load_word2vec_format('wiki-news-300d-1M-subword.vec')"
   ]
  },
  {
   "cell_type": "markdown",
   "metadata": {},
   "source": [
    "## Подготовка датасетов"
   ]
  },
  {
   "cell_type": "markdown",
   "metadata": {},
   "source": [
    "Основной датасет с отзывами. Удаляем лишнее и собираем список уникальных `id`товаров."
   ]
  },
  {
   "cell_type": "code",
   "execution_count": 12,
   "metadata": {},
   "outputs": [],
   "source": [
    "with open('Cell_Phones_and_Accessories_5.json') as f:\n",
    "    data = f.readlines()"
   ]
  },
  {
   "cell_type": "code",
   "execution_count": 13,
   "metadata": {},
   "outputs": [
    {
     "name": "stderr",
     "output_type": "stream",
     "text": [
      "100%|██████████████████████████████| 1128437/1128437 [00:11<00:00, 94499.24it/s]\n"
     ]
    },
    {
     "name": "stdout",
     "output_type": "stream",
     "text": [
      "всего уникальных товаров в датасете: 48186\n"
     ]
    }
   ],
   "source": [
    "dataset = []\n",
    "for d in tqdm(data):\n",
    "    dataset.append(json.loads(d))\n",
    "dataset = pd.DataFrame(dataset)\n",
    "dataset = dataset.drop(['overall', 'verified', 'reviewTime',\n",
    "                       'style', 'reviewerName', 'summary',\n",
    "                       'unixReviewTime', 'vote', 'image', 'reviewerID'], axis=1)\n",
    "dataset = dataset.drop_duplicates()\n",
    "\n",
    "ids_products = list(set(dataset['asin'].tolist()))\n",
    "print('всего уникальных товаров в датасете:', len(ids_products))\n",
    "\n",
    "# dataset.to_csv('dataset.csv', index=False)"
   ]
  },
  {
   "cell_type": "code",
   "execution_count": 85,
   "metadata": {},
   "outputs": [
    {
     "data": {
      "text/html": [
       "<div>\n",
       "<style scoped>\n",
       "    .dataframe tbody tr th:only-of-type {\n",
       "        vertical-align: middle;\n",
       "    }\n",
       "\n",
       "    .dataframe tbody tr th {\n",
       "        vertical-align: top;\n",
       "    }\n",
       "\n",
       "    .dataframe thead th {\n",
       "        text-align: right;\n",
       "    }\n",
       "</style>\n",
       "<table border=\"1\" class=\"dataframe\">\n",
       "  <thead>\n",
       "    <tr style=\"text-align: right;\">\n",
       "      <th></th>\n",
       "      <th>asin</th>\n",
       "      <th>reviewText</th>\n",
       "    </tr>\n",
       "  </thead>\n",
       "  <tbody>\n",
       "    <tr>\n",
       "      <th>0</th>\n",
       "      <td>7508492919</td>\n",
       "      <td>Looks even better in person. Be careful to not...</td>\n",
       "    </tr>\n",
       "    <tr>\n",
       "      <th>1</th>\n",
       "      <td>7508492919</td>\n",
       "      <td>When you don't want to spend a whole lot of ca...</td>\n",
       "    </tr>\n",
       "    <tr>\n",
       "      <th>2</th>\n",
       "      <td>7508492919</td>\n",
       "      <td>so the case came on time, i love the design. I...</td>\n",
       "    </tr>\n",
       "    <tr>\n",
       "      <th>3</th>\n",
       "      <td>7508492919</td>\n",
       "      <td>DON'T CARE FOR IT.  GAVE IT AS A GIFT AND THEY...</td>\n",
       "    </tr>\n",
       "    <tr>\n",
       "      <th>4</th>\n",
       "      <td>7508492919</td>\n",
       "      <td>I liked it because it was cute, but the studs ...</td>\n",
       "    </tr>\n",
       "    <tr>\n",
       "      <th>...</th>\n",
       "      <td>...</td>\n",
       "      <td>...</td>\n",
       "    </tr>\n",
       "    <tr>\n",
       "      <th>1128432</th>\n",
       "      <td>B01HJC7N4C</td>\n",
       "      <td>Good for viewing. But doesn't have a button or...</td>\n",
       "    </tr>\n",
       "    <tr>\n",
       "      <th>1128433</th>\n",
       "      <td>B01HJC7N4C</td>\n",
       "      <td>I was given the Rockrok 3D VR Glasses Headset ...</td>\n",
       "    </tr>\n",
       "    <tr>\n",
       "      <th>1128434</th>\n",
       "      <td>B01HJC7N4C</td>\n",
       "      <td>Super Fun! The RockRoc 3d vr headset is waaaay...</td>\n",
       "    </tr>\n",
       "    <tr>\n",
       "      <th>1128435</th>\n",
       "      <td>B01HJC7N4C</td>\n",
       "      <td>Love it!\\n\\nI've had other VR glasses which al...</td>\n",
       "    </tr>\n",
       "    <tr>\n",
       "      <th>1128436</th>\n",
       "      <td>B01HJH9IN6</td>\n",
       "      <td>i love it</td>\n",
       "    </tr>\n",
       "  </tbody>\n",
       "</table>\n",
       "<p>1113189 rows × 2 columns</p>\n",
       "</div>"
      ],
      "text/plain": [
       "               asin                                         reviewText\n",
       "0        7508492919  Looks even better in person. Be careful to not...\n",
       "1        7508492919  When you don't want to spend a whole lot of ca...\n",
       "2        7508492919  so the case came on time, i love the design. I...\n",
       "3        7508492919  DON'T CARE FOR IT.  GAVE IT AS A GIFT AND THEY...\n",
       "4        7508492919  I liked it because it was cute, but the studs ...\n",
       "...             ...                                                ...\n",
       "1128432  B01HJC7N4C  Good for viewing. But doesn't have a button or...\n",
       "1128433  B01HJC7N4C  I was given the Rockrok 3D VR Glasses Headset ...\n",
       "1128434  B01HJC7N4C  Super Fun! The RockRoc 3d vr headset is waaaay...\n",
       "1128435  B01HJC7N4C  Love it!\\n\\nI've had other VR glasses which al...\n",
       "1128436  B01HJH9IN6                                          i love it\n",
       "\n",
       "[1113189 rows x 2 columns]"
      ]
     },
     "execution_count": 85,
     "metadata": {},
     "output_type": "execute_result"
    }
   ],
   "source": [
    "dataset"
   ]
  },
  {
   "cell_type": "markdown",
   "metadata": {},
   "source": [
    "Датасет метаданных. Удаляем лишнее."
   ]
  },
  {
   "cell_type": "code",
   "execution_count": 15,
   "metadata": {
    "scrolled": true
   },
   "outputs": [
    {
     "name": "stderr",
     "output_type": "stream",
     "text": [
      "100%|█████████████████████████████████| 590071/590071 [02:10<00:00, 4519.73it/s]\n"
     ]
    }
   ],
   "source": [
    "with open('meta_Cell_Phones_and_Accessories.json') as f:\n",
    "    METAdata = f.readlines()\n",
    "\n",
    "METAdataset = []\n",
    "for d in tqdm(METAdata):\n",
    "    METAdataset.append(json.loads(d))\n",
    "METAdataset = pd.DataFrame(METAdataset).drop_duplicates(subset=['asin'])\n",
    "METAdataset = METAdataset.drop(['tech1', 'description', 'fit', 'also_buy',\n",
    "                               'tech2', 'feature', 'rank', 'also_view',\n",
    "                               'details', 'similar_item', 'date', 'price',\n",
    "                               'imageURL', 'imageURLHighRes'], axis=1)\n",
    "\n",
    "# METAdataset.to_csv('METAdataset.csv', index=False)"
   ]
  },
  {
   "cell_type": "markdown",
   "metadata": {},
   "source": [
    "## Подготовка словаря"
   ]
  },
  {
   "cell_type": "markdown",
   "metadata": {},
   "source": [
    "Выбираем только те товары, на которые в основном датасете есть отзывы."
   ]
  },
  {
   "cell_type": "code",
   "execution_count": 16,
   "metadata": {},
   "outputs": [],
   "source": [
    "METAdataset = METAdataset[METAdataset['asin'].isin(ids_products)]"
   ]
  },
  {
   "cell_type": "code",
   "execution_count": 17,
   "metadata": {},
   "outputs": [],
   "source": [
    "punctuation = '[{}]'.format(punctuation)"
   ]
  },
  {
   "cell_type": "markdown",
   "metadata": {},
   "source": [
    "Функция для сбора типов товаров из названий категорий и их лемматизации (это необходимо, так как они почти всегда во множественном числе)."
   ]
  },
  {
   "cell_type": "code",
   "execution_count": 18,
   "metadata": {},
   "outputs": [],
   "source": [
    "def get_product_types(categories):\n",
    "    types = []\n",
    "\n",
    "    for cat in tqdm(categories):\n",
    "        some_types = [w for w in re.split(punctuation, cat) if w != '']\n",
    "        for t in some_types:\n",
    "            doc = nlp(t.lower().strip())\n",
    "            res = [token.lemma_ for token in doc]\n",
    "            if len(res) > 1:\n",
    "                col = ' '.join(res)\n",
    "                types.append(col)\n",
    "            try:\n",
    "                types.append(res[len(res) - 1])\n",
    "            except:\n",
    "                pass\n",
    "        \n",
    "    return types"
   ]
  },
  {
   "cell_type": "markdown",
   "metadata": {},
   "source": [
    "Фильтрую по частотности >= 10 (это нужно, так как и в дереве категорий в датасете много мусора)."
   ]
  },
  {
   "cell_type": "code",
   "execution_count": 19,
   "metadata": {},
   "outputs": [
    {
     "name": "stderr",
     "output_type": "stream",
     "text": [
      "100%|███████████████████████████████████████████| 51/51 [00:00<00:00, 55.40it/s]\n"
     ]
    }
   ],
   "source": [
    "all_categories = [c for cat in METAdataset['category'].to_list() for c in cat]\n",
    "all_categories = [cat[0] for cat in Counter(all_categories).most_common() if cat[1] >= 10]\n",
    "all_categories = get_product_types(all_categories)"
   ]
  },
  {
   "cell_type": "markdown",
   "metadata": {},
   "source": [
    "С помощью spaСy будем доставать вершины из названий товаров (это дополнительное наполнение словаря типов товаров)."
   ]
  },
  {
   "cell_type": "code",
   "execution_count": 20,
   "metadata": {},
   "outputs": [],
   "source": [
    "def get_head(name):\n",
    "    doc = nlp(name)\n",
    "    try:\n",
    "        for chunk in doc.noun_chunks:\n",
    "            head = chunk.root.text\n",
    "            break\n",
    "        return head\n",
    "    except:\n",
    "        return np.nan"
   ]
  },
  {
   "cell_type": "code",
   "execution_count": 21,
   "metadata": {
    "scrolled": true
   },
   "outputs": [
    {
     "name": "stderr",
     "output_type": "stream",
     "text": [
      "100%|████████████████████████████████████| 48172/48172 [05:39<00:00, 142.00it/s]\n"
     ]
    }
   ],
   "source": [
    "METAdataset['head'] = METAdataset['title'].progress_apply(lambda t: get_head(t))\n",
    "METAdataset = METAdataset.dropna(subset=['head'])"
   ]
  },
  {
   "cell_type": "markdown",
   "metadata": {},
   "source": [
    "Эти типы товаров фильтруем по частотности >= 20, так как здесь ещё больше мусора."
   ]
  },
  {
   "cell_type": "code",
   "execution_count": 22,
   "metadata": {},
   "outputs": [],
   "source": [
    "types = [head[0].lower() for head in Counter(METAdataset['head'].to_list()).most_common() if \\\n",
    "         (head[1] >= 20) and (len(head[0]) > 3)]\n",
    "types.extend(all_categories)\n",
    "types = list(set(types))"
   ]
  },
  {
   "cell_type": "code",
   "execution_count": 23,
   "metadata": {},
   "outputs": [
    {
     "data": {
      "text/plain": [
       "['reiko',\n",
       " 'blue',\n",
       " 'holster',\n",
       " 'sim card tool',\n",
       " 'dock',\n",
       " 'accessory kit',\n",
       " 'car speakerphone',\n",
       " 'adapter',\n",
       " 'quick',\n",
       " 'case',\n",
       " 'nylon',\n",
       " 'accessory',\n",
       " 'desire',\n",
       " 'phone charm',\n",
       " 'protectors',\n",
       " 'mybat',\n",
       " 'silver',\n",
       " 'shield',\n",
       " 'import',\n",
       " 'armband',\n",
       " 'lightning',\n",
       " 'broadband',\n",
       " 'icarez',\n",
       " 'replacement part',\n",
       " 'shell',\n",
       " 'signal booster',\n",
       " 'cradle',\n",
       " 'combo',\n",
       " 'diamond',\n",
       " 'door',\n",
       " 'ixcc',\n",
       " 'film',\n",
       " 'edition',\n",
       " 'mobile broadband',\n",
       " 'eforcity&reg',\n",
       " 'attachment',\n",
       " 'snap',\n",
       " 'nexus',\n",
       " 'unlocked',\n",
       " 'eforcity',\n",
       " 'samsung',\n",
       " 'dry bag',\n",
       " 'earbuds',\n",
       " 'tripod',\n",
       " 'mat',\n",
       " 'car charger',\n",
       " 'glasses',\n",
       " 'pink',\n",
       " 'wallet',\n",
       " 'etech',\n",
       " 'series',\n",
       " 'smartwatch accessory',\n",
       " 'accessories',\n",
       " 'touch',\n",
       " 'huawei',\n",
       " 'glass',\n",
       " 'compatible',\n",
       " 'portable power bank',\n",
       " 'otterbox',\n",
       " 'bold',\n",
       " 'speaker',\n",
       " 'car accessory',\n",
       " 'sleeve',\n",
       " 'mobile flash',\n",
       " 'bank',\n",
       " 'cord',\n",
       " 'sync',\n",
       " 'epartsolution',\n",
       " 'earphones',\n",
       " 'unlocked cell phone',\n",
       " 'gear',\n",
       " 'certified',\n",
       " 'virtual reality headset',\n",
       " 'hybrid',\n",
       " 'power adapter',\n",
       " 'wall charger',\n",
       " 'premium',\n",
       " 'lens',\n",
       " 'coveron&reg',\n",
       " 'charm',\n",
       " 'plug',\n",
       " 'car cradle',\n",
       " '2.5d',\n",
       " 'wireless',\n",
       " 'universal',\n",
       " 'incipio',\n",
       " 'flip case',\n",
       " 'coverage',\n",
       " 'cellphone',\n",
       " 'part',\n",
       " 'pack',\n",
       " 'pad',\n",
       " 'bundle',\n",
       " 'sticker',\n",
       " 'battery pack',\n",
       " 'booster',\n",
       " 'bumper',\n",
       " 'pouch',\n",
       " 'bluetooth',\n",
       " 'basic case',\n",
       " 'protection',\n",
       " 'ringke',\n",
       " 'car kit',\n",
       " 'cases',\n",
       " 'receiver',\n",
       " 'station',\n",
       " 'card',\n",
       " 'mpero',\n",
       " 'selfie stick',\n",
       " 'clear',\n",
       " 'ulak',\n",
       " 'iphone',\n",
       " 'skin',\n",
       " 'bag',\n",
       " 'white',\n",
       " 'factory',\n",
       " 'capacity',\n",
       " 'headset',\n",
       " 'packaging',\n",
       " 'protector',\n",
       " 'monopod',\n",
       " 'headphones',\n",
       " 'screen',\n",
       " 'replacement',\n",
       " 'curve',\n",
       " 'assembly',\n",
       " 'note',\n",
       " 'galaxy',\n",
       " 'replacement battery',\n",
       " 'span',\n",
       " 'slim',\n",
       " 'mobile hotspot',\n",
       " 'edge',\n",
       " 'armor',\n",
       " 'blackberry',\n",
       " 'cover',\n",
       " 'flower',\n",
       " 'mount',\n",
       " 'folio',\n",
       " 'smartwatch case',\n",
       " 'holder',\n",
       " 'hotspot',\n",
       " 'black',\n",
       " 'android',\n",
       " 'flash',\n",
       " 'smartphone',\n",
       " 'matte',\n",
       " 'warranty',\n",
       " 'cables',\n",
       " 'lumia',\n",
       " 'xperia',\n",
       " 'watch',\n",
       " 'motion',\n",
       " 'single ear bluetooth headset',\n",
       " 'strap',\n",
       " 'carrier cell phone',\n",
       " 'module',\n",
       " 'solar charger',\n",
       " 'charging',\n",
       " 'display',\n",
       " 'supershieldz',\n",
       " 'light',\n",
       " 'charger',\n",
       " 'battery',\n",
       " 'shockwize',\n",
       " 'prepaid minute',\n",
       " 'body',\n",
       " 'lens attachment',\n",
       " 'design',\n",
       " 'leather',\n",
       " 'maxboost',\n",
       " 'optimus',\n",
       " 'smartwatch cable',\n",
       " 'portable',\n",
       " 'sim card',\n",
       " 'tool',\n",
       " 'gray',\n",
       " 'crystal',\n",
       " 'stick',\n",
       " 'turbo',\n",
       " 'speakerphone',\n",
       " 'charge',\n",
       " 'clip',\n",
       " 'charge station',\n",
       " 'battery charger case',\n",
       " 'elago',\n",
       " 'studio',\n",
       " 'core',\n",
       " 'guard',\n",
       " 'car pad',\n",
       " 'mobile',\n",
       " 'smartwatch screen protector',\n",
       " 'band',\n",
       " 'transmitter',\n",
       " 'version',\n",
       " 'stand',\n",
       " 'digitizer',\n",
       " 'droid',\n",
       " 'minute',\n",
       " 'phone',\n",
       " 'mini',\n",
       " 'screen protector',\n",
       " 'cable',\n",
       " 'torch',\n",
       " 'mega',\n",
       " 'iflash&reg',\n",
       " 'pattern',\n",
       " 'kit',\n",
       " 'gold',\n",
       " 'bands',\n",
       " 'ultra',\n",
       " 'kickstand',\n",
       " 'motorola',\n",
       " 'cell phone',\n",
       " 'verizon',\n",
       " 'waterproof',\n",
       " 'control',\n",
       " 'frame',\n",
       " 'selfie light',\n",
       " 'smartwatch band',\n",
       " 'grip',\n",
       " 'cell',\n",
       " 'xshields&copy']"
      ]
     },
     "execution_count": 23,
     "metadata": {},
     "output_type": "execute_result"
    }
   ],
   "source": [
    "types"
   ]
  },
  {
   "cell_type": "markdown",
   "metadata": {},
   "source": [
    "### Генерация дополнительных слов в словарь на основе модели дистрибутивной семантики FastText"
   ]
  },
  {
   "cell_type": "markdown",
   "metadata": {},
   "source": [
    "Используется модель `wiki-news-300d-1M-subword.vec` с сайта [FastText](https://fasttext.cc/docs/en/english-vectors.html).  \n",
    "Ниже приведён код в комментарии, который можно применить, чтобы не загружать модель и искать соседей, а сразу получить расширенный словарь."
   ]
  },
  {
   "cell_type": "code",
   "execution_count": 2,
   "metadata": {},
   "outputs": [],
   "source": [
    "wv = KeyedVectors.load_word2vec_format('wiki-news-300d-1M-subword.vec')"
   ]
  },
  {
   "cell_type": "code",
   "execution_count": 40,
   "metadata": {},
   "outputs": [
    {
     "name": "stderr",
     "output_type": "stream",
     "text": [
      "100%|█████████████████████████████████████████| 223/223 [00:11<00:00, 19.89it/s]\n"
     ]
    }
   ],
   "source": [
    "generated_types = []\n",
    "for t in tqdm(types):\n",
    "    generated_types.append(t)\n",
    "    if len(t.split()) == 1:\n",
    "        try:\n",
    "            generated_types.extend([neighb[0].lower() for neighb in wv.most_similar(t)])\n",
    "        except KeyError:\n",
    "            pass\n",
    "generated_types = list(set(generated_types))"
   ]
  },
  {
   "cell_type": "code",
   "execution_count": 43,
   "metadata": {},
   "outputs": [
    {
     "name": "stdout",
     "output_type": "stream",
     "text": [
      "размер словаря до генерации: 223\n",
      "размер словаря после генерации: 1604\n"
     ]
    }
   ],
   "source": [
    "print('размер словаря до генерации:', len(types))\n",
    "print('размер словаря после генерации:', len(generated_types))"
   ]
  },
  {
   "cell_type": "markdown",
   "metadata": {},
   "source": [
    "Соответствующий файл приложен в репозитории."
   ]
  },
  {
   "cell_type": "code",
   "execution_count": 388,
   "metadata": {},
   "outputs": [],
   "source": [
    "# with open('generated_types.txt', 'w') as fh:\n",
    "#     fh.writelines(\"%s\\n\" % g for g in generated_types)\n",
    "    \n",
    "# with open('generated_types.txt', 'r') as fh:\n",
    "#     generated_types = fh.readlines()"
   ]
  },
  {
   "cell_type": "markdown",
   "metadata": {},
   "source": [
    "Честно говоря, нужно было всё же брать меньше синонимов: в итоговом словаре есть явно лишние слова."
   ]
  },
  {
   "cell_type": "markdown",
   "metadata": {},
   "source": [
    "## Теггер"
   ]
  },
  {
   "cell_type": "markdown",
   "metadata": {},
   "source": [
    "Теггер я написал вручную. Он работает следующим образом: 1) берёт NP; 2) если вершина в ней есть в словаре, до считает (пока что) всю NP за сущность; 3) (тут и начинается элемент rule-based) если в начале группы есть артикль, местоимение, числительное, наречие или прилагательное, то они \"удаляются\" из сущности (но только по-одному, так как прилагательные вполне могут быть и частью сущности); 4) далее идёт коротенькое правило по поводу цифр после вершины, которые не учитываются парсером spaCy."
   ]
  },
  {
   "cell_type": "code",
   "execution_count": 176,
   "metadata": {},
   "outputs": [],
   "source": [
    "def NER(review):\n",
    "    NEs = []\n",
    "    \n",
    "    doc = nlp(review.lower())  \n",
    "    for chunk in doc.noun_chunks:\n",
    "        # NE = chunk.text\n",
    "        head = chunk.root.text\n",
    "        if head in generated_types:\n",
    "            NE = chunk.text\n",
    "            info = nlp(NE)\n",
    "            negative = 0\n",
    "            if len(NE.split()) > 1:\n",
    "                try:\n",
    "                    if info[negative].pos_ == 'DET':\n",
    "                        negative += 1\n",
    "                    if info[negative].pos_ == 'PRON':\n",
    "                        negative += 1\n",
    "                    if info[negative].pos_ == 'NUM':\n",
    "                        negative += 1\n",
    "                    if info[negative].pos_ == 'ADV':\n",
    "                        negative += 1\n",
    "                    if info[negative].pos_ == 'ADJ':\n",
    "                        negative += 1\n",
    "                except IndexError:\n",
    "                    continue\n",
    "            NE = ' '.join([token.text for token in info[negative:]])\n",
    "            if NE == ' ' or '':\n",
    "                continue\n",
    "            tokenized = [token.text for token in doc]\n",
    "            ind = tokenized.index(head)\n",
    "            if ind != len(tokenized) - 1:\n",
    "                potential_num = tokenized[tokenized.index(head) + 1]\n",
    "                if re.search(r'\\d+', potential_num) != None:\n",
    "                    NEs.append('{} {}'.format(NE, potential_num))\n",
    "                else:\n",
    "                    NEs.append(NE)\n",
    "            else:\n",
    "                NEs.append(NE)\n",
    "    return NEs"
   ]
  },
  {
   "cell_type": "markdown",
   "metadata": {},
   "source": [
    "Я взял сэмпл из 30000 отзывов, чтобы побыстрее их обработать."
   ]
  },
  {
   "cell_type": "code",
   "execution_count": 177,
   "metadata": {},
   "outputs": [],
   "source": [
    "samp = dataset.sample(30000).dropna(subset=['reviewText'])"
   ]
  },
  {
   "cell_type": "code",
   "execution_count": 178,
   "metadata": {},
   "outputs": [
    {
     "name": "stderr",
     "output_type": "stream",
     "text": [
      "100%|█████████████████████████████████████| 29975/29975 [12:37<00:00, 39.58it/s]\n"
     ]
    }
   ],
   "source": [
    "samp['NEs'] = samp['reviewText'].progress_apply(lambda r: NER(r))"
   ]
  },
  {
   "cell_type": "code",
   "execution_count": 179,
   "metadata": {
    "scrolled": true
   },
   "outputs": [
    {
     "data": {
      "text/html": [
       "<div>\n",
       "<style scoped>\n",
       "    .dataframe tbody tr th:only-of-type {\n",
       "        vertical-align: middle;\n",
       "    }\n",
       "\n",
       "    .dataframe tbody tr th {\n",
       "        vertical-align: top;\n",
       "    }\n",
       "\n",
       "    .dataframe thead th {\n",
       "        text-align: right;\n",
       "    }\n",
       "</style>\n",
       "<table border=\"1\" class=\"dataframe\">\n",
       "  <thead>\n",
       "    <tr style=\"text-align: right;\">\n",
       "      <th></th>\n",
       "      <th>asin</th>\n",
       "      <th>reviewText</th>\n",
       "      <th>NEs</th>\n",
       "    </tr>\n",
       "  </thead>\n",
       "  <tbody>\n",
       "    <tr>\n",
       "      <th>153277</th>\n",
       "      <td>B009AYLYWA</td>\n",
       "      <td>Well made and works as advertised.</td>\n",
       "      <td>[]</td>\n",
       "    </tr>\n",
       "    <tr>\n",
       "      <th>624289</th>\n",
       "      <td>B00QDBNCTG</td>\n",
       "      <td>This is the 2nd time I've had to replace my so...</td>\n",
       "      <td>[son 's screen,   correct tools, screen]</td>\n",
       "    </tr>\n",
       "    <tr>\n",
       "      <th>382207</th>\n",
       "      <td>B00IKEOFCC</td>\n",
       "      <td>Excelent.</td>\n",
       "      <td>[]</td>\n",
       "    </tr>\n",
       "    <tr>\n",
       "      <th>942354</th>\n",
       "      <td>B01BHEIIR4</td>\n",
       "      <td>Does what it's supposed to do. Charges my phon...</td>\n",
       "      <td>[phone, cord]</td>\n",
       "    </tr>\n",
       "    <tr>\n",
       "      <th>255883</th>\n",
       "      <td>B00D856NOG</td>\n",
       "      <td>Love this. I leave this on the dining table fo...</td>\n",
       "      <td>[phone, phone]</td>\n",
       "    </tr>\n",
       "    <tr>\n",
       "      <th>...</th>\n",
       "      <td>...</td>\n",
       "      <td>...</td>\n",
       "      <td>...</td>\n",
       "    </tr>\n",
       "    <tr>\n",
       "      <th>431598</th>\n",
       "      <td>B00K35JGPC</td>\n",
       "      <td>Excellent product.  I cannot complain whatsoev...</td>\n",
       "      <td>[product, screen protector,   tempered glass, ...</td>\n",
       "    </tr>\n",
       "    <tr>\n",
       "      <th>732272</th>\n",
       "      <td>B00X5RV14Y</td>\n",
       "      <td>Very good  battery use it for hiking works gre...</td>\n",
       "      <td>[charge]</td>\n",
       "    </tr>\n",
       "    <tr>\n",
       "      <th>781825</th>\n",
       "      <td>B010MWGM0W</td>\n",
       "      <td>This is a great Case for the Note 5. It allows...</td>\n",
       "      <td>[case, note 5, needed grip, charger]</td>\n",
       "    </tr>\n",
       "    <tr>\n",
       "      <th>713016</th>\n",
       "      <td>B00VU5YS0W</td>\n",
       "      <td>Loved this phone case while I had an Iphone 5,...</td>\n",
       "      <td>[phone case, case, phone]</td>\n",
       "    </tr>\n",
       "    <tr>\n",
       "      <th>925115</th>\n",
       "      <td>B01AHSWBW4</td>\n",
       "      <td>I received the product and was pleased with it.</td>\n",
       "      <td>[product]</td>\n",
       "    </tr>\n",
       "  </tbody>\n",
       "</table>\n",
       "<p>29975 rows × 3 columns</p>\n",
       "</div>"
      ],
      "text/plain": [
       "              asin                                         reviewText  \\\n",
       "153277  B009AYLYWA                 Well made and works as advertised.   \n",
       "624289  B00QDBNCTG  This is the 2nd time I've had to replace my so...   \n",
       "382207  B00IKEOFCC                                          Excelent.   \n",
       "942354  B01BHEIIR4  Does what it's supposed to do. Charges my phon...   \n",
       "255883  B00D856NOG  Love this. I leave this on the dining table fo...   \n",
       "...            ...                                                ...   \n",
       "431598  B00K35JGPC  Excellent product.  I cannot complain whatsoev...   \n",
       "732272  B00X5RV14Y  Very good  battery use it for hiking works gre...   \n",
       "781825  B010MWGM0W  This is a great Case for the Note 5. It allows...   \n",
       "713016  B00VU5YS0W  Loved this phone case while I had an Iphone 5,...   \n",
       "925115  B01AHSWBW4    I received the product and was pleased with it.   \n",
       "\n",
       "                                                      NEs  \n",
       "153277                                                 []  \n",
       "624289           [son 's screen,   correct tools, screen]  \n",
       "382207                                                 []  \n",
       "942354                                      [phone, cord]  \n",
       "255883                                     [phone, phone]  \n",
       "...                                                   ...  \n",
       "431598  [product, screen protector,   tempered glass, ...  \n",
       "732272                                           [charge]  \n",
       "781825               [case, note 5, needed grip, charger]  \n",
       "713016                          [phone case, case, phone]  \n",
       "925115                                          [product]  \n",
       "\n",
       "[29975 rows x 3 columns]"
      ]
     },
     "execution_count": 179,
     "metadata": {},
     "output_type": "execute_result"
    }
   ],
   "source": [
    "samp"
   ]
  },
  {
   "cell_type": "code",
   "execution_count": 357,
   "metadata": {},
   "outputs": [],
   "source": [
    "samp['reviewText'] = samp['reviewText'].apply(lambda t: t.lower())"
   ]
  },
  {
   "cell_type": "markdown",
   "metadata": {},
   "source": [
    "## Коллокации"
   ]
  },
  {
   "cell_type": "code",
   "execution_count": 358,
   "metadata": {},
   "outputs": [],
   "source": [
    "stops = stopwords.words('english')"
   ]
  },
  {
   "cell_type": "markdown",
   "metadata": {},
   "source": [
    "Я взял топ-10 наиболее частотных однословных сущностей для последующего анализа (обратите внимание, насколько \"широкие\" (*product*) и \"узкие\" (*iphone*) сущности сюда попали."
   ]
  },
  {
   "cell_type": "code",
   "execution_count": 384,
   "metadata": {},
   "outputs": [
    {
     "data": {
      "text/plain": [
       "['phone',\n",
       " 'case',\n",
       " 'product',\n",
       " 'screen',\n",
       " 'protection',\n",
       " 'battery',\n",
       " 'charger',\n",
       " 'cases',\n",
       " 'iphone',\n",
       " 'phones']"
      ]
     },
     "execution_count": 384,
     "metadata": {},
     "output_type": "execute_result"
    }
   ],
   "source": [
    "targets"
   ]
  },
  {
   "cell_type": "code",
   "execution_count": 359,
   "metadata": {},
   "outputs": [],
   "source": [
    "targets = [s for t in samp['NEs'].to_list() for s in t if ' ' not in s]\n",
    "targets = [pair[0] for pair in Counter(targets).most_common()[:10]]"
   ]
  },
  {
   "cell_type": "code",
   "execution_count": 360,
   "metadata": {},
   "outputs": [],
   "source": [
    "tokenizer = RegexpTokenizer(r'\\w+')\n",
    "texts = samp['reviewText'].apply(tokenizer.tokenize).to_list()"
   ]
  },
  {
   "cell_type": "markdown",
   "metadata": {},
   "source": [
    "При подборе биграмм я поставил 3 фильтра:\n",
    "* второе слово в биграмме должно быть из списка сущностей (топ-10), о котором я писал выше;\n",
    "* частотный фильтр — 10;\n",
    "* фильтр стоп-слов."
   ]
  },
  {
   "cell_type": "code",
   "execution_count": 361,
   "metadata": {},
   "outputs": [],
   "source": [
    "bigram_measures = nltk.collocations.BigramAssocMeasures()\n",
    "finder = BigramCollocationFinder.from_documents(texts)\n",
    "finder.apply_ngram_filter(lambda w1, w2: w2 not in targets)\n",
    "finder.apply_freq_filter(10)\n",
    "finder.apply_word_filter(lambda w: w in stops)"
   ]
  },
  {
   "cell_type": "markdown",
   "metadata": {},
   "source": [
    "### Log-likelihood"
   ]
  },
  {
   "cell_type": "markdown",
   "metadata": {},
   "source": [
    "На мой взгляд, для этой задачи (и соответствующего отчёта) лучше всего подходит именно **log-likelihood**. Именно эта метра \"поднимает\" больше всего оценочных (типичных и важных для отзывов) биграмм (например, *great case*), а не биграмм по типу товара (например, *cell phone*)."
   ]
  },
  {
   "cell_type": "code",
   "execution_count": 362,
   "metadata": {},
   "outputs": [
    {
     "data": {
      "text/plain": [
       "[(('great', 'product'), 3514.173321017227),\n",
       " (('glass', 'screen'), 2870.3291030645146),\n",
       " (('cell', 'phone'), 2691.684186097711),\n",
       " (('good', 'product'), 1454.1276982087452),\n",
       " (('wall', 'charger'), 1369.0988806171529),\n",
       " (('hook', 'product'), 1258.278883108626),\n",
       " (('excellent', 'product'), 1176.7946625967838),\n",
       " (('great', 'case'), 1051.00006909802),\n",
       " (('external', 'battery'), 996.6059884244687),\n",
       " (('car', 'charger'), 910.358596233918),\n",
       " (('good', 'protection'), 907.5703756959222),\n",
       " (('protective', 'case'), 808.8977944791238),\n",
       " (('nice', 'case'), 778.6208299121639),\n",
       " (('great', 'protection'), 777.3600606775939),\n",
       " (('touch', 'screen'), 766.4180806040268)]"
      ]
     },
     "execution_count": 362,
     "metadata": {},
     "output_type": "execute_result"
    }
   ],
   "source": [
    "finder.score_ngrams(bigram_measures.likelihood_ratio)[:15]"
   ]
  },
  {
   "cell_type": "markdown",
   "metadata": {},
   "source": [
    "### Pointwise mutual information (PMI)"
   ]
  },
  {
   "cell_type": "code",
   "execution_count": 363,
   "metadata": {},
   "outputs": [
    {
     "data": {
      "text/plain": [
       "[(('gp', 'product'), 8.0929775352122),\n",
       " (('external', 'battery'), 7.878939691682092),\n",
       " (('maximum', 'protection'), 7.870642661694454),\n",
       " (('wall', 'charger'), 7.85764018104345),\n",
       " (('adequate', 'protection'), 7.823669998234223),\n",
       " (('extended', 'battery'), 7.740940651856228),\n",
       " (('smart', 'phones'), 7.670134612111195),\n",
       " (('hook', 'product'), 7.51726904339068),\n",
       " (('portable', 'charger'), 7.335173606056056),\n",
       " (('cell', 'phones'), 7.246732069265242),\n",
       " (('rechargeable', 'battery'), 7.2257118575469335),\n",
       " (('wireless', 'charger'), 7.143549053129828),\n",
       " (('moderate', 'protection'), 7.126982414954238),\n",
       " (('rapid', 'charger'), 7.1136401874486985),\n",
       " (('spare', 'battery'), 6.846392098771236)]"
      ]
     },
     "execution_count": 363,
     "metadata": {},
     "output_type": "execute_result"
    }
   ],
   "source": [
    "finder.score_ngrams(bigram_measures.pmi)[:15]"
   ]
  },
  {
   "cell_type": "markdown",
   "metadata": {},
   "source": [
    "### Jaccard index"
   ]
  },
  {
   "cell_type": "code",
   "execution_count": 364,
   "metadata": {},
   "outputs": [
    {
     "data": {
      "text/plain": [
       "[(('great', 'product'), 0.056071918330032),\n",
       " (('wall', 'charger'), 0.05385466617484323),\n",
       " (('glass', 'screen'), 0.052370585389453314),\n",
       " (('cell', 'phones'), 0.04275286757038582),\n",
       " (('car', 'charger'), 0.03847258110824002),\n",
       " (('good', 'product'), 0.032452960469532194),\n",
       " (('wireless', 'charger'), 0.032153179190751446),\n",
       " (('excellent', 'product'), 0.03159383841559258),\n",
       " (('external', 'battery'), 0.029945292254534985),\n",
       " (('smart', 'phones'), 0.029265255292652552),\n",
       " (('portable', 'charger'), 0.027330587794833397),\n",
       " (('hook', 'product'), 0.02557352388115833),\n",
       " (('drop', 'protection'), 0.024719841793012523),\n",
       " (('good', 'protection'), 0.023839114224381425),\n",
       " (('android', 'phones'), 0.021645021645021644)]"
      ]
     },
     "execution_count": 364,
     "metadata": {},
     "output_type": "execute_result"
    }
   ],
   "source": [
    "finder.score_ngrams(bigram_measures.jaccard)[:15]"
   ]
  },
  {
   "cell_type": "markdown",
   "metadata": {},
   "source": [
    "## Группировка и вывод"
   ]
  },
  {
   "cell_type": "code",
   "execution_count": 381,
   "metadata": {},
   "outputs": [],
   "source": [
    "output_products = ['product', 'charger', 'case', 'iphone', 'phone']\n",
    "best = finder.score_ngrams(bigram_measures.likelihood_ratio)\n",
    "results = {}\n",
    "for t in targets:\n",
    "    if not t in results:\n",
    "        results[t] = []\n",
    "    for b in best:\n",
    "        if b[0][1] == t:\n",
    "            results[t].append(b[0][0])"
   ]
  },
  {
   "cell_type": "code",
   "execution_count": 383,
   "metadata": {},
   "outputs": [
    {
     "name": "stdout",
     "output_type": "stream",
     "text": [
      "out\n",
      "---\n",
      "great product\n",
      "good product\n",
      "hook product\n",
      "excellent product\n",
      "quality product\n",
      "...\n",
      "out\n",
      "---\n",
      "wall charger\n",
      "car charger\n",
      "wireless charger\n",
      "portable charger\n",
      "usb charger\n",
      "...\n",
      "out\n",
      "---\n",
      "great case\n",
      "protective case\n",
      "nice case\n",
      "tpu case\n",
      "phone case\n",
      "...\n",
      "out\n",
      "---\n",
      "new iphone\n",
      "gold iphone\n",
      "apple iphone\n",
      "white iphone\n",
      "black iphone\n",
      "...\n",
      "out\n",
      "---\n",
      "cell phone\n",
      "new phone\n",
      "smart phone\n",
      "windows phone\n",
      "case phone\n",
      "...\n"
     ]
    }
   ],
   "source": [
    "for out in output_products:\n",
    "    print('out', '---', sep='\\n')\n",
    "    for colloc in results[out][:5]:\n",
    "        print('{} {}'.format(colloc, out))\n",
    "    print('...')"
   ]
  },
  {
   "cell_type": "code",
   "execution_count": null,
   "metadata": {},
   "outputs": [],
   "source": []
  }
 ],
 "metadata": {
  "kernelspec": {
   "display_name": "Python 3 (ipykernel)",
   "language": "python",
   "name": "python3"
  },
  "language_info": {
   "codemirror_mode": {
    "name": "ipython",
    "version": 3
   },
   "file_extension": ".py",
   "mimetype": "text/x-python",
   "name": "python",
   "nbconvert_exporter": "python",
   "pygments_lexer": "ipython3",
   "version": "3.7.3"
  }
 },
 "nbformat": 4,
 "nbformat_minor": 2
}
